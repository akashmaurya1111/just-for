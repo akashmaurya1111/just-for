{
 "cells": [
  {
   "cell_type": "code",
   "execution_count": 2,
   "metadata": {},
   "outputs": [
    {
     "name": "stdout",
     "output_type": "stream",
     "text": [
      "Enter the element p7\n",
      "Enter the element g3\n",
      "Enter the secret key a (Alice) : 8\n",
      "Enter the secret key b (Bob) : 23\n",
      "Alice and bob can communicate with each other\n"
     ]
    }
   ],
   "source": [
    "p=int(input(\"Enter the element p\"))\n",
    "g=int(input(\"Enter the element g\"))\n",
    "a=int(input(\"Enter the private key a (Alice) : \"))\n",
    "b=int(input(\"Enter the private key b (Bob) : \"))\n",
    "A=pow(p,a)%g\n",
    "B=pow(p,b)%g\n",
    "S_A=pow(B,a)%g\n",
    "S_B=pow(A,b)%g\n",
    "if S_A==S_B:\n",
    "    print(\"Alice and bob can communicate with each other\")\n",
    "else:\n",
    "    print(\"Alice and bob cannot communicate with each other\")"
   ]
  },
  {
   "cell_type": "code",
   "execution_count": null,
   "metadata": {},
   "outputs": [],
   "source": []
  }
 ],
 "metadata": {
  "kernelspec": {
   "display_name": "Python 3",
   "language": "python",
   "name": "python3"
  },
  "language_info": {
   "codemirror_mode": {
    "name": "ipython",
    "version": 3
   },
   "file_extension": ".py",
   "mimetype": "text/x-python",
   "name": "python",
   "nbconvert_exporter": "python",
   "pygments_lexer": "ipython3",
   "version": "3.9.0"
  }
 },
 "nbformat": 4,
 "nbformat_minor": 4
}
