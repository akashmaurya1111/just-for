{
 "cells": [
  {
   "cell_type": "code",
   "execution_count": 4,
   "metadata": {},
   "outputs": [
    {
     "name": "stdout",
     "output_type": "stream",
     "text": [
      "b'\\xfa\\xc2\\xf7\\x06RZ2\\xbb\\xc4\\x85\\x93\\x02\\xf5hn\\x93'\n"
     ]
    }
   ],
   "source": [
    "from Crypto.Cipher import AES\n",
    "\n",
    "#key has to be either 16, 24 or 32 bytes\n",
    "def paddedKey(key):\n",
    "    while len(key) % 8 !=0:\n",
    "        key +=' '\n",
    "    return key\n",
    "    \n",
    "#text has to in multiples of 26 bytes\n",
    "def paddedText(text):\n",
    "    while len(text) % 16 != 0:\n",
    "        text += ' '\n",
    "    return text\n",
    "        \n",
    "plain_input = input(\"Enter the text to be encrypted: \")\n",
    "plain = paddedText(plain_input)\n",
    " \n",
    "key_input = input(\"Enter in a key between 16 and 32 characters: \")\n",
    "key = paddedKey(key_input)\n",
    " \n",
    "if(len(key_input)< 16 & len(key_input)> 32):\n",
    " print(\"key must be between 16 and 32 characters!\")\n",
    " \n",
    "cipher = AES.new(key)\n",
    "ciphertext = cipher.encrypt(plain)\n",
    "print(ciphertext)\n",
    " \n",
    "cleartext = cipher.decrypt(ciphertext)\n",
    "print(cleartext)\n",
    "\n"
   ]
  },
  {
   "cell_type": "code",
   "execution_count": null,
   "metadata": {},
   "outputs": [],
   "source": []
  }
 ],
 "metadata": {
  "kernelspec": {
   "display_name": "Python 3",
   "language": "python",
   "name": "python3"
  },
  "language_info": {
   "codemirror_mode": {
    "name": "ipython",
    "version": 3
   },
   "file_extension": ".py",
   "mimetype": "text/x-python",
   "name": "python",
   "nbconvert_exporter": "python",
   "pygments_lexer": "ipython3",
   "version": "3.9.0"
  }
 },
 "nbformat": 4,
 "nbformat_minor": 4
}
