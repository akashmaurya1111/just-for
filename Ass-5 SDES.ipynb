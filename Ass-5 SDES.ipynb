{
 "cells": [
  {
   "cell_type": "code",
   "execution_count": 2,
   "metadata": {},
   "outputs": [
    {
     "name": "stdout",
     "output_type": "stream",
     "text": [
      "Collecting pyDes\n",
      "  Downloading pyDes-2.0.1.tar.gz (9.9 kB)\n",
      "  Preparing metadata (setup.py): started\n",
      "  Preparing metadata (setup.py): finished with status 'done'\n",
      "Building wheels for collected packages: pyDes\n",
      "  Building wheel for pyDes (setup.py): started\n",
      "  Building wheel for pyDes (setup.py): finished with status 'done'\n",
      "  Created wheel for pyDes: filename=pyDes-2.0.1-py2.py3-none-any.whl size=9548 sha256=184ffaf90ba9ee65387b41ae945529e309e49264e2d89608d1d523dbaa0c89fd\n",
      "  Stored in directory: c:\\users\\akash maurya\\appdata\\local\\pip\\cache\\wheels\\8b\\99\\cf\\1f212251b142c87544ea2416382e29b42bcee5b5383408abb1\n",
      "Successfully built pyDes\n",
      "Installing collected packages: pyDes\n",
      "Successfully installed pyDes-2.0.1\n"
     ]
    },
    {
     "name": "stderr",
     "output_type": "stream",
     "text": [
      "WARNING: You are using pip version 22.0.4; however, version 22.1 is available.\n",
      "You should consider upgrading via the 'c:\\users\\akash maurya\\python.exe -m pip install --upgrade pip' command.\n"
     ]
    }
   ],
   "source": [
    "!pip install pyDes"
   ]
  },
  {
   "cell_type": "code",
   "execution_count": 3,
   "metadata": {},
   "outputs": [],
   "source": [
    "import pyDes\n",
    "from time import time"
   ]
  },
  {
   "cell_type": "code",
   "execution_count": 4,
   "metadata": {},
   "outputs": [
    {
     "name": "stdout",
     "output_type": "stream",
     "text": [
      "Please enter plain text for encryption:akash\n",
      "Enter 16/24 byte string for key generation:mnbvcxzlkjhgfdsa\n",
      "cipher text: b'\\xe0\\xfd\\xf4B\\x94\\x8elD'\n",
      "Elapsed time for 1,000 encryptions: 3.860s\n"
     ]
    }
   ],
   "source": [
    "data = input(\"Please enter plain text for encryption:\")\n",
    "keystring=input(\"Enter 16/24 byte string for key generation:\")\n",
    "k = pyDes.triple_des(keystring, padmode=pyDes.PAD_PKCS5)\n",
    "e = k.encrypt(data)\n",
    "print (\"cipher text: %r\" % e)\n",
    "t1 = time()\n",
    "for i in range(1000):\n",
    "     e = k.encrypt(data)\n",
    "t2 = time()\n",
    "print(\"Elapsed time for 1,000 encryptions: {:0.3f}s\".format(t2 - t1))\n"
   ]
  },
  {
   "cell_type": "code",
   "execution_count": null,
   "metadata": {},
   "outputs": [],
   "source": []
  }
 ],
 "metadata": {
  "kernelspec": {
   "display_name": "Python 3",
   "language": "python",
   "name": "python3"
  },
  "language_info": {
   "codemirror_mode": {
    "name": "ipython",
    "version": 3
   },
   "file_extension": ".py",
   "mimetype": "text/x-python",
   "name": "python",
   "nbconvert_exporter": "python",
   "pygments_lexer": "ipython3",
   "version": "3.9.0"
  }
 },
 "nbformat": 4,
 "nbformat_minor": 4
}
